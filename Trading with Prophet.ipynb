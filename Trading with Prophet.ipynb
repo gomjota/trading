{
 "cells": [
  {
   "cell_type": "code",
   "execution_count": 1,
   "metadata": {},
   "outputs": [],
   "source": [
    "%matplotlib inline\n",
    "import pandas as pd\n",
    "from fbprophet import Prophet\n",
    "import matplotlib.pyplot as plt\n",
    "import seaborn as sns\n",
    "from sklearn.metrics import mean_squared_error"
   ]
  },
  {
   "cell_type": "code",
   "execution_count": 2,
   "metadata": {},
   "outputs": [],
   "source": [
    "LAST_TRAINING_DAY = pd.Timestamp('20180101')"
   ]
  },
  {
   "cell_type": "code",
   "execution_count": 3,
   "metadata": {},
   "outputs": [],
   "source": [
    "apple = pd.read_csv('data/apple-5y.csv')"
   ]
  },
  {
   "cell_type": "code",
   "execution_count": 4,
   "metadata": {},
   "outputs": [
    {
     "data": {
      "text/html": [
       "<div>\n",
       "<style scoped>\n",
       "    .dataframe tbody tr th:only-of-type {\n",
       "        vertical-align: middle;\n",
       "    }\n",
       "\n",
       "    .dataframe tbody tr th {\n",
       "        vertical-align: top;\n",
       "    }\n",
       "\n",
       "    .dataframe thead th {\n",
       "        text-align: right;\n",
       "    }\n",
       "</style>\n",
       "<table border=\"1\" class=\"dataframe\">\n",
       "  <thead>\n",
       "    <tr style=\"text-align: right;\">\n",
       "      <th></th>\n",
       "      <th>date</th>\n",
       "      <th>close</th>\n",
       "      <th>volume</th>\n",
       "      <th>open</th>\n",
       "      <th>high</th>\n",
       "      <th>low</th>\n",
       "    </tr>\n",
       "  </thead>\n",
       "  <tbody>\n",
       "    <tr>\n",
       "      <th>0</th>\n",
       "      <td>16:00</td>\n",
       "      <td>216.16</td>\n",
       "      <td>18,476,356</td>\n",
       "      <td>216.41</td>\n",
       "      <td>216.90</td>\n",
       "      <td>215.110</td>\n",
       "    </tr>\n",
       "    <tr>\n",
       "      <th>1</th>\n",
       "      <td>2018/08/24</td>\n",
       "      <td>216.16</td>\n",
       "      <td>18457720.0000</td>\n",
       "      <td>216.60</td>\n",
       "      <td>216.90</td>\n",
       "      <td>215.110</td>\n",
       "    </tr>\n",
       "    <tr>\n",
       "      <th>2</th>\n",
       "      <td>2018/08/23</td>\n",
       "      <td>215.49</td>\n",
       "      <td>18505780.0000</td>\n",
       "      <td>214.65</td>\n",
       "      <td>217.05</td>\n",
       "      <td>214.600</td>\n",
       "    </tr>\n",
       "    <tr>\n",
       "      <th>3</th>\n",
       "      <td>2018/08/22</td>\n",
       "      <td>215.05</td>\n",
       "      <td>18965930.0000</td>\n",
       "      <td>214.10</td>\n",
       "      <td>216.36</td>\n",
       "      <td>213.840</td>\n",
       "    </tr>\n",
       "    <tr>\n",
       "      <th>4</th>\n",
       "      <td>2018/08/21</td>\n",
       "      <td>215.04</td>\n",
       "      <td>25682700.0000</td>\n",
       "      <td>216.80</td>\n",
       "      <td>217.19</td>\n",
       "      <td>214.025</td>\n",
       "    </tr>\n",
       "  </tbody>\n",
       "</table>\n",
       "</div>"
      ],
      "text/plain": [
       "         date   close         volume    open    high      low\n",
       "0       16:00  216.16     18,476,356  216.41  216.90  215.110\n",
       "1  2018/08/24  216.16  18457720.0000  216.60  216.90  215.110\n",
       "2  2018/08/23  215.49  18505780.0000  214.65  217.05  214.600\n",
       "3  2018/08/22  215.05  18965930.0000  214.10  216.36  213.840\n",
       "4  2018/08/21  215.04  25682700.0000  216.80  217.19  214.025"
      ]
     },
     "execution_count": 4,
     "metadata": {},
     "output_type": "execute_result"
    }
   ],
   "source": [
    "apple.head()"
   ]
  },
  {
   "cell_type": "code",
   "execution_count": 5,
   "metadata": {},
   "outputs": [],
   "source": [
    "apple = apple.iloc[1:]"
   ]
  },
  {
   "cell_type": "code",
   "execution_count": 6,
   "metadata": {},
   "outputs": [],
   "source": [
    "apple['date'] = pd.to_datetime(apple['date'])"
   ]
  },
  {
   "cell_type": "code",
   "execution_count": 7,
   "metadata": {},
   "outputs": [],
   "source": [
    "apple_prophet = apple[apple['date'] < LAST_TRAINING_DAY]"
   ]
  },
  {
   "cell_type": "code",
   "execution_count": 8,
   "metadata": {},
   "outputs": [],
   "source": [
    "apple_prophet = apple_prophet.drop(columns=['volume', 'open', 'high', 'low'])"
   ]
  },
  {
   "cell_type": "code",
   "execution_count": 9,
   "metadata": {},
   "outputs": [],
   "source": [
    "apple_prophet = apple_prophet.rename({'date': 'ds', 'close': 'y'}, axis='columns')"
   ]
  },
  {
   "cell_type": "code",
   "execution_count": 10,
   "metadata": {},
   "outputs": [
    {
     "name": "stderr",
     "output_type": "stream",
     "text": [
      "INFO:fbprophet.forecaster:Disabling daily seasonality. Run prophet with daily_seasonality=True to override this.\n",
      "/anaconda3/lib/python3.6/site-packages/pystan/misc.py:399: FutureWarning: Conversion of the second argument of issubdtype from `float` to `np.floating` is deprecated. In future, it will be treated as `np.float64 == np.dtype(float).type`.\n",
      "  elif np.issubdtype(np.asarray(v).dtype, float):\n"
     ]
    },
    {
     "data": {
      "text/plain": [
       "<fbprophet.forecaster.Prophet at 0x1a12525908>"
      ]
     },
     "execution_count": 10,
     "metadata": {},
     "output_type": "execute_result"
    }
   ],
   "source": [
    "m = Prophet()\n",
    "m.fit(apple_prophet)"
   ]
  },
  {
   "cell_type": "code",
   "execution_count": 11,
   "metadata": {},
   "outputs": [
    {
     "data": {
      "text/html": [
       "<div>\n",
       "<style scoped>\n",
       "    .dataframe tbody tr th:only-of-type {\n",
       "        vertical-align: middle;\n",
       "    }\n",
       "\n",
       "    .dataframe tbody tr th {\n",
       "        vertical-align: top;\n",
       "    }\n",
       "\n",
       "    .dataframe thead th {\n",
       "        text-align: right;\n",
       "    }\n",
       "</style>\n",
       "<table border=\"1\" class=\"dataframe\">\n",
       "  <thead>\n",
       "    <tr style=\"text-align: right;\">\n",
       "      <th></th>\n",
       "      <th>ds</th>\n",
       "      <th>y</th>\n",
       "    </tr>\n",
       "  </thead>\n",
       "  <tbody>\n",
       "    <tr>\n",
       "      <th>165</th>\n",
       "      <td>2017-12-29</td>\n",
       "      <td>169.23</td>\n",
       "    </tr>\n",
       "    <tr>\n",
       "      <th>166</th>\n",
       "      <td>2017-12-28</td>\n",
       "      <td>171.08</td>\n",
       "    </tr>\n",
       "    <tr>\n",
       "      <th>167</th>\n",
       "      <td>2017-12-27</td>\n",
       "      <td>170.60</td>\n",
       "    </tr>\n",
       "    <tr>\n",
       "      <th>168</th>\n",
       "      <td>2017-12-26</td>\n",
       "      <td>170.57</td>\n",
       "    </tr>\n",
       "    <tr>\n",
       "      <th>169</th>\n",
       "      <td>2017-12-22</td>\n",
       "      <td>175.01</td>\n",
       "    </tr>\n",
       "  </tbody>\n",
       "</table>\n",
       "</div>"
      ],
      "text/plain": [
       "            ds       y\n",
       "165 2017-12-29  169.23\n",
       "166 2017-12-28  171.08\n",
       "167 2017-12-27  170.60\n",
       "168 2017-12-26  170.57\n",
       "169 2017-12-22  175.01"
      ]
     },
     "execution_count": 11,
     "metadata": {},
     "output_type": "execute_result"
    }
   ],
   "source": [
    "apple_prophet.head()"
   ]
  },
  {
   "cell_type": "code",
   "execution_count": 12,
   "metadata": {},
   "outputs": [
    {
     "data": {
      "text/html": [
       "<div>\n",
       "<style scoped>\n",
       "    .dataframe tbody tr th:only-of-type {\n",
       "        vertical-align: middle;\n",
       "    }\n",
       "\n",
       "    .dataframe tbody tr th {\n",
       "        vertical-align: top;\n",
       "    }\n",
       "\n",
       "    .dataframe thead th {\n",
       "        text-align: right;\n",
       "    }\n",
       "</style>\n",
       "<table border=\"1\" class=\"dataframe\">\n",
       "  <thead>\n",
       "    <tr style=\"text-align: right;\">\n",
       "      <th></th>\n",
       "      <th>ds</th>\n",
       "    </tr>\n",
       "  </thead>\n",
       "  <tbody>\n",
       "    <tr>\n",
       "      <th>1456</th>\n",
       "      <td>2018-12-25</td>\n",
       "    </tr>\n",
       "    <tr>\n",
       "      <th>1457</th>\n",
       "      <td>2018-12-26</td>\n",
       "    </tr>\n",
       "    <tr>\n",
       "      <th>1458</th>\n",
       "      <td>2018-12-27</td>\n",
       "    </tr>\n",
       "    <tr>\n",
       "      <th>1459</th>\n",
       "      <td>2018-12-28</td>\n",
       "    </tr>\n",
       "    <tr>\n",
       "      <th>1460</th>\n",
       "      <td>2018-12-29</td>\n",
       "    </tr>\n",
       "  </tbody>\n",
       "</table>\n",
       "</div>"
      ],
      "text/plain": [
       "             ds\n",
       "1456 2018-12-25\n",
       "1457 2018-12-26\n",
       "1458 2018-12-27\n",
       "1459 2018-12-28\n",
       "1460 2018-12-29"
      ]
     },
     "execution_count": 12,
     "metadata": {},
     "output_type": "execute_result"
    }
   ],
   "source": [
    "future = m.make_future_dataframe(periods=365)\n",
    "future.tail()"
   ]
  },
  {
   "cell_type": "code",
   "execution_count": 13,
   "metadata": {},
   "outputs": [],
   "source": [
    "forecast = m.predict(future)"
   ]
  },
  {
   "cell_type": "code",
   "execution_count": 14,
   "metadata": {},
   "outputs": [
    {
     "data": {
      "image/png": "[encoded data removed]",
      "text/plain": [
       "<Figure size 720x432 with 1 Axes>"
      ]
     },
     "metadata": {},
     "output_type": "display_data"
    }
   ],
   "source": [
    "fig1 = m.plot(forecast)"
   ]
  },
  {
   "cell_type": "code",
   "execution_count": 15,
   "metadata": {},
   "outputs": [
    {
     "data": {
      "text/html": [
       "<div>\n",
       "<style scoped>\n",
       "    .dataframe tbody tr th:only-of-type {\n",
       "        vertical-align: middle;\n",
       "    }\n",
       "\n",
       "    .dataframe tbody tr th {\n",
       "        vertical-align: top;\n",
       "    }\n",
       "\n",
       "    .dataframe thead th {\n",
       "        text-align: right;\n",
       "    }\n",
       "</style>\n",
       "<table border=\"1\" class=\"dataframe\">\n",
       "  <thead>\n",
       "    <tr style=\"text-align: right;\">\n",
       "      <th></th>\n",
       "      <th>ds</th>\n",
       "      <th>trend</th>\n",
       "      <th>trend_lower</th>\n",
       "      <th>trend_upper</th>\n",
       "      <th>yhat_lower</th>\n",
       "      <th>yhat_upper</th>\n",
       "      <th>additive_terms</th>\n",
       "      <th>additive_terms_lower</th>\n",
       "      <th>additive_terms_upper</th>\n",
       "      <th>multiplicative_terms</th>\n",
       "      <th>multiplicative_terms_lower</th>\n",
       "      <th>multiplicative_terms_upper</th>\n",
       "      <th>weekly</th>\n",
       "      <th>weekly_lower</th>\n",
       "      <th>weekly_upper</th>\n",
       "      <th>yearly</th>\n",
       "      <th>yearly_lower</th>\n",
       "      <th>yearly_upper</th>\n",
       "      <th>yhat</th>\n",
       "    </tr>\n",
       "  </thead>\n",
       "  <tbody>\n",
       "    <tr>\n",
       "      <th>1456</th>\n",
       "      <td>2018-12-25</td>\n",
       "      <td>222.253450</td>\n",
       "      <td>195.868881</td>\n",
       "      <td>248.081233</td>\n",
       "      <td>194.342564</td>\n",
       "      <td>246.900437</td>\n",
       "      <td>-1.978962</td>\n",
       "      <td>-1.978962</td>\n",
       "      <td>-1.978962</td>\n",
       "      <td>0.0</td>\n",
       "      <td>0.0</td>\n",
       "      <td>0.0</td>\n",
       "      <td>0.003676</td>\n",
       "      <td>0.003676</td>\n",
       "      <td>0.003676</td>\n",
       "      <td>-1.982638</td>\n",
       "      <td>-1.982638</td>\n",
       "      <td>-1.982638</td>\n",
       "      <td>220.274488</td>\n",
       "    </tr>\n",
       "    <tr>\n",
       "      <th>1457</th>\n",
       "      <td>2018-12-26</td>\n",
       "      <td>222.386568</td>\n",
       "      <td>195.884280</td>\n",
       "      <td>248.292692</td>\n",
       "      <td>193.197750</td>\n",
       "      <td>246.139365</td>\n",
       "      <td>-2.153931</td>\n",
       "      <td>-2.153931</td>\n",
       "      <td>-2.153931</td>\n",
       "      <td>0.0</td>\n",
       "      <td>0.0</td>\n",
       "      <td>0.0</td>\n",
       "      <td>0.003978</td>\n",
       "      <td>0.003978</td>\n",
       "      <td>0.003978</td>\n",
       "      <td>-2.157910</td>\n",
       "      <td>-2.157910</td>\n",
       "      <td>-2.157910</td>\n",
       "      <td>220.232637</td>\n",
       "    </tr>\n",
       "    <tr>\n",
       "      <th>1458</th>\n",
       "      <td>2018-12-27</td>\n",
       "      <td>222.519686</td>\n",
       "      <td>195.899680</td>\n",
       "      <td>248.542047</td>\n",
       "      <td>193.185038</td>\n",
       "      <td>246.586230</td>\n",
       "      <td>-2.437129</td>\n",
       "      <td>-2.437129</td>\n",
       "      <td>-2.437129</td>\n",
       "      <td>0.0</td>\n",
       "      <td>0.0</td>\n",
       "      <td>0.0</td>\n",
       "      <td>-0.105358</td>\n",
       "      <td>-0.105358</td>\n",
       "      <td>-0.105358</td>\n",
       "      <td>-2.331771</td>\n",
       "      <td>-2.331771</td>\n",
       "      <td>-2.331771</td>\n",
       "      <td>220.082558</td>\n",
       "    </tr>\n",
       "    <tr>\n",
       "      <th>1459</th>\n",
       "      <td>2018-12-28</td>\n",
       "      <td>222.652804</td>\n",
       "      <td>195.915079</td>\n",
       "      <td>248.841668</td>\n",
       "      <td>193.650664</td>\n",
       "      <td>246.319044</td>\n",
       "      <td>-2.635078</td>\n",
       "      <td>-2.635078</td>\n",
       "      <td>-2.635078</td>\n",
       "      <td>0.0</td>\n",
       "      <td>0.0</td>\n",
       "      <td>0.0</td>\n",
       "      <td>-0.130565</td>\n",
       "      <td>-0.130565</td>\n",
       "      <td>-0.130565</td>\n",
       "      <td>-2.504513</td>\n",
       "      <td>-2.504513</td>\n",
       "      <td>-2.504513</td>\n",
       "      <td>220.017727</td>\n",
       "    </tr>\n",
       "    <tr>\n",
       "      <th>1460</th>\n",
       "      <td>2018-12-29</td>\n",
       "      <td>222.785922</td>\n",
       "      <td>195.930479</td>\n",
       "      <td>249.141288</td>\n",
       "      <td>193.727336</td>\n",
       "      <td>247.019920</td>\n",
       "      <td>-2.600191</td>\n",
       "      <td>-2.600191</td>\n",
       "      <td>-2.600191</td>\n",
       "      <td>0.0</td>\n",
       "      <td>0.0</td>\n",
       "      <td>0.0</td>\n",
       "      <td>0.076335</td>\n",
       "      <td>0.076335</td>\n",
       "      <td>0.076335</td>\n",
       "      <td>-2.676527</td>\n",
       "      <td>-2.676527</td>\n",
       "      <td>-2.676527</td>\n",
       "      <td>220.185731</td>\n",
       "    </tr>\n",
       "  </tbody>\n",
       "</table>\n",
       "</div>"
      ],
      "text/plain": [
       "             ds       trend  trend_lower  trend_upper  yhat_lower  yhat_upper  \\\n",
       "1456 2018-12-25  222.253450   195.868881   248.081233  194.342564  246.900437   \n",
       "1457 2018-12-26  222.386568   195.884280   248.292692  193.197750  246.139365   \n",
       "1458 2018-12-27  222.519686   195.899680   248.542047  193.185038  246.586230   \n",
       "1459 2018-12-28  222.652804   195.915079   248.841668  193.650664  246.319044   \n",
       "1460 2018-12-29  222.785922   195.930479   249.141288  193.727336  247.019920   \n",
       "\n",
       "      additive_terms  additive_terms_lower  additive_terms_upper  \\\n",
       "1456       -1.978962             -1.978962             -1.978962   \n",
       "1457       -2.153931             -2.153931             -2.153931   \n",
       "1458       -2.437129             -2.437129             -2.437129   \n",
       "1459       -2.635078             -2.635078             -2.635078   \n",
       "1460       -2.600191             -2.600191             -2.600191   \n",
       "\n",
       "      multiplicative_terms  multiplicative_terms_lower  \\\n",
       "1456                   0.0                         0.0   \n",
       "1457                   0.0                         0.0   \n",
       "1458                   0.0                         0.0   \n",
       "1459                   0.0                         0.0   \n",
       "1460                   0.0                         0.0   \n",
       "\n",
       "      multiplicative_terms_upper    weekly  weekly_lower  weekly_upper  \\\n",
       "1456                         0.0  0.003676      0.003676      0.003676   \n",
       "1457                         0.0  0.003978      0.003978      0.003978   \n",
       "1458                         0.0 -0.105358     -0.105358     -0.105358   \n",
       "1459                         0.0 -0.130565     -0.130565     -0.130565   \n",
       "1460                         0.0  0.076335      0.076335      0.076335   \n",
       "\n",
       "        yearly  yearly_lower  yearly_upper        yhat  \n",
       "1456 -1.982638     -1.982638     -1.982638  220.274488  \n",
       "1457 -2.157910     -2.157910     -2.157910  220.232637  \n",
       "1458 -2.331771     -2.331771     -2.331771  220.082558  \n",
       "1459 -2.504513     -2.504513     -2.504513  220.017727  \n",
       "1460 -2.676527     -2.676527     -2.676527  220.185731  "
      ]
     },
     "execution_count": 15,
     "metadata": {},
     "output_type": "execute_result"
    }
   ],
   "source": [
    "forecast.tail().head()"
   ]
  },
  {
   "cell_type": "code",
   "execution_count": 16,
   "metadata": {},
   "outputs": [],
   "source": [
    "df_result = pd.DataFrame(columns=['date', 'value', 'prediction', 'error'])"
   ]
  },
  {
   "cell_type": "code",
   "execution_count": 17,
   "metadata": {},
   "outputs": [],
   "source": [
    "for index, row in apple[apple['date'] > LAST_TRAINING_DAY].iterrows():\n",
    "    prediction_row = forecast[forecast['ds'] == row['date']]\n",
    "    if len(prediction_row > 0):\n",
    "        date = row['date']\n",
    "        value = row['close']\n",
    "        prediction = forecast[forecast['ds'] == date]['yhat'].values[0]\n",
    "        error = value - prediction\n",
    "        df_result = df_result.append({'date': date, 'value': value, 'prediction': prediction, 'error': error}, ignore_index=True)"
   ]
  },
  {
   "cell_type": "code",
   "execution_count": 18,
   "metadata": {},
   "outputs": [
    {
     "data": {
      "text/plain": [
       "<matplotlib.axes._subplots.AxesSubplot at 0x1a11a94e10>"
      ]
     },
     "execution_count": 18,
     "metadata": {},
     "output_type": "execute_result"
    },
    {
     "data": {
      "image/png": "[encoded data removed]",
      "text/plain": [
       "<Figure size 1152x576 with 1 Axes>"
      ]
     },
     "metadata": {},
     "output_type": "display_data"
    }
   ],
   "source": [
    "plt.subplots(figsize=(16, 8))\n",
    "sns.lineplot(x=\"date\", y=\"error\", data=df_result)"
   ]
  },
  {
   "cell_type": "code",
   "execution_count": 19,
   "metadata": {},
   "outputs": [
    {
     "data": {
      "text/plain": [
       "153.83905047014758"
      ]
     },
     "execution_count": 19,
     "metadata": {},
     "output_type": "execute_result"
    }
   ],
   "source": [
    "mean_squared_error(df_result['value'], df_result['prediction'])"
   ]
  },
  {
   "cell_type": "code",
   "execution_count": null,
   "metadata": {},
   "outputs": [],
   "source": []
  }
 ],
 "metadata": {
  "kernelspec": {
   "display_name": "Python [conda env:anaconda3]",
   "language": "python",
   "name": "conda-env-anaconda3-py"
  },
  "language_info": {
   "codemirror_mode": {
    "name": "ipython",
    "version": 3
   },
   "file_extension": ".py",
   "mimetype": "text/x-python",
   "name": "python",
   "nbconvert_exporter": "python",
   "pygments_lexer": "ipython3",
   "version": "3.6.4"
  }
 },
 "nbformat": 4,
 "nbformat_minor": 2
}
